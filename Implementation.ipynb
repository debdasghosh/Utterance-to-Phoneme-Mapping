{
  "nbformat": 4,
  "nbformat_minor": 0,
  "metadata": {
    "colab": {
      "name": "debdasg_HW3P2.ipynb",
      "provenance": [],
      "collapsed_sections": [],
      "machine_shape": "hm"
    },
    "kernelspec": {
      "name": "python3",
      "display_name": "Python 3"
    },
    "accelerator": "GPU"
  },
  "cells": [
    {
      "cell_type": "markdown",
      "metadata": {
        "id": "ZH4Va3oeBdPp"
      },
      "source": [
        "## CTC Decode"
      ]
    },
    {
      "cell_type": "code",
      "metadata": {
        "id": "cyk5w-uxwaOD",
        "outputId": "0744424f-81fa-4361-8456-adb09d8352ba",
        "colab": {
          "base_uri": "https://localhost:8080/"
        }
      },
      "source": [
        "!git clone --recursive https://github.com/parlance/ctcdecode.git"
      ],
      "execution_count": 2,
      "outputs": [
        {
          "output_type": "stream",
          "text": [
            "Cloning into 'ctcdecode'...\n",
            "remote: Enumerating objects: 16, done.\u001b[K\n",
            "remote: Counting objects: 100% (16/16), done.\u001b[K\n",
            "remote: Compressing objects: 100% (14/14), done.\u001b[K\n",
            "remote: Total 1063 (delta 6), reused 7 (delta 2), pack-reused 1047\u001b[K\n",
            "Receiving objects: 100% (1063/1063), 763.61 KiB | 1.32 MiB/s, done.\n",
            "Resolving deltas: 100% (509/509), done.\n",
            "Submodule 'third_party/ThreadPool' (https://github.com/progschj/ThreadPool.git) registered for path 'third_party/ThreadPool'\n",
            "Submodule 'third_party/kenlm' (https://github.com/kpu/kenlm.git) registered for path 'third_party/kenlm'\n",
            "Cloning into '/content/ctcdecode/third_party/ThreadPool'...\n",
            "remote: Enumerating objects: 82, done.        \n",
            "remote: Total 82 (delta 0), reused 0 (delta 0), pack-reused 82        \n",
            "Cloning into '/content/ctcdecode/third_party/kenlm'...\n",
            "remote: Enumerating objects: 90, done.        \n",
            "remote: Counting objects: 100% (90/90), done.        \n",
            "remote: Compressing objects: 100% (64/64), done.        \n",
            "remote: Total 13672 (delta 41), reused 54 (delta 21), pack-reused 13582        \n",
            "Receiving objects: 100% (13672/13672), 5.53 MiB | 8.36 MiB/s, done.\n",
            "Resolving deltas: 100% (7847/7847), done.\n",
            "Submodule path 'third_party/ThreadPool': checked out '9a42ec1329f259a5f4881a291db1dcb8f2ad9040'\n",
            "Submodule path 'third_party/kenlm': checked out '35835f1ac4884126458ac89f9bf6dd9ccad561e0'\n"
          ],
          "name": "stdout"
        }
      ]
    },
    {
      "cell_type": "code",
      "metadata": {
        "id": "1MWy_K-TwqLE",
        "outputId": "c2a7538d-3c2b-4990-f556-0ff790529c34",
        "colab": {
          "base_uri": "https://localhost:8080/"
        }
      },
      "source": [
        "!pip install wget"
      ],
      "execution_count": 3,
      "outputs": [
        {
          "output_type": "stream",
          "text": [
            "Collecting wget\n",
            "  Downloading https://files.pythonhosted.org/packages/47/6a/62e288da7bcda82b935ff0c6cfe542970f04e29c756b0e147251b2fb251f/wget-3.2.zip\n",
            "Building wheels for collected packages: wget\n",
            "  Building wheel for wget (setup.py) ... \u001b[?25l\u001b[?25hdone\n",
            "  Created wheel for wget: filename=wget-3.2-cp36-none-any.whl size=9682 sha256=ccd56c90a970b9c61f0a8f6cac230901669b9fbff742d7d2b81e7ff92d568330\n",
            "  Stored in directory: /root/.cache/pip/wheels/40/15/30/7d8f7cea2902b4db79e3fea550d7d7b85ecb27ef992b618f3f\n",
            "Successfully built wget\n",
            "Installing collected packages: wget\n",
            "Successfully installed wget-3.2\n"
          ],
          "name": "stdout"
        }
      ]
    },
    {
      "cell_type": "code",
      "metadata": {
        "id": "XBDsPGA7wsjN",
        "outputId": "0709ad4f-c991-484d-feb0-9b4fe5d22ecb",
        "colab": {
          "base_uri": "https://localhost:8080/"
        }
      },
      "source": [
        "%cd ctcdecode"
      ],
      "execution_count": 4,
      "outputs": [
        {
          "output_type": "stream",
          "text": [
            "/content/ctcdecode\n"
          ],
          "name": "stdout"
        }
      ]
    },
    {
      "cell_type": "code",
      "metadata": {
        "id": "UKkFnRI3wvN1",
        "outputId": "5dc0563e-6700-477b-d87c-724c8b3a7bd9",
        "colab": {
          "base_uri": "https://localhost:8080/"
        }
      },
      "source": [
        "!pip install ."
      ],
      "execution_count": 5,
      "outputs": [
        {
          "output_type": "stream",
          "text": [
            "Processing /content/ctcdecode\n",
            "Building wheels for collected packages: ctcdecode\n",
            "  Building wheel for ctcdecode (setup.py) ... \u001b[?25l\u001b[?25hdone\n",
            "  Created wheel for ctcdecode: filename=ctcdecode-1.0.2-cp36-cp36m-linux_x86_64.whl size=12784436 sha256=4607ba8e3cef3ad8d27c837af90cb2c47dc83b57d18748a75c496ef110050a15\n",
            "  Stored in directory: /tmp/pip-ephem-wheel-cache-ge4mvdtw/wheels/c3/6c/94/7d57d4f20a87a22ef1722eaad22052b4c435892b55400e5f4e\n",
            "Successfully built ctcdecode\n",
            "Installing collected packages: ctcdecode\n",
            "Successfully installed ctcdecode-1.0.2\n"
          ],
          "name": "stdout"
        }
      ]
    },
    {
      "cell_type": "code",
      "metadata": {
        "id": "b4jT4LkCww9D",
        "outputId": "a1cac3fb-28f1-401a-8d82-9577606a9969",
        "colab": {
          "base_uri": "https://localhost:8080/"
        }
      },
      "source": [
        "%cd .."
      ],
      "execution_count": 6,
      "outputs": [
        {
          "output_type": "stream",
          "text": [
            "/content\n"
          ],
          "name": "stdout"
        }
      ]
    },
    {
      "cell_type": "markdown",
      "metadata": {
        "id": "LU9iOqRJBoFi"
      },
      "source": [
        "## Dataset Download from Kaggle"
      ]
    },
    {
      "cell_type": "code",
      "metadata": {
        "id": "O1sHwO1Zw0Hv",
        "outputId": "4ab71e18-0540-4e7a-a0e4-d721361f7b04",
        "colab": {
          "base_uri": "https://localhost:8080/"
        }
      },
      "source": [
        "! mkdir ~/.kaggle\n",
        "! cp kaggle.json ~/.kaggle/\n",
        "!kaggle competitions download -c 11-785-fall-20-homework-3"
      ],
      "execution_count": 15,
      "outputs": [
        {
          "output_type": "stream",
          "text": [
            "mkdir: cannot create directory ‘/root/.kaggle’: File exists\n",
            "Warning: Your Kaggle API key is readable by other users on this system! To fix this, you can run 'chmod 600 /root/.kaggle/kaggle.json'\n",
            "Warning: Looks like you're using an outdated API Version, please consider updating (server 1.5.9 / client 1.5.4)\n",
            "Downloading dev.npy.zip to /content\n",
            "100% 98.6M/98.6M [00:02<00:00, 34.6MB/s]\n",
            "\n",
            "Downloading test.npy.zip to /content\n",
            " 90% 88.0M/98.1M [00:02<00:00, 33.1MB/s]\n",
            "100% 98.1M/98.1M [00:02<00:00, 41.6MB/s]\n",
            "Downloading train_labels.npy.zip to /content\n",
            "  0% 0.00/3.21M [00:00<?, ?B/s]\n",
            "100% 3.21M/3.21M [00:00<00:00, 216MB/s]\n",
            "Downloading dev_labels.npy.zip to /content\n",
            "  0% 0.00/236k [00:00<?, ?B/s]\n",
            "100% 236k/236k [00:00<00:00, 77.7MB/s]\n",
            "Downloading phoneme_list.py to /content\n",
            "  0% 0.00/1.06k [00:00<?, ?B/s]\n",
            "100% 1.06k/1.06k [00:00<00:00, 1.10MB/s]\n",
            "Downloading train.npy.zip to /content\n",
            " 99% 1.56G/1.57G [00:28<00:00, 46.2MB/s]\n",
            "100% 1.57G/1.57G [00:28<00:00, 58.2MB/s]\n",
            "Downloading sample_submission.csv to /content\n",
            "  0% 0.00/16.5k [00:00<?, ?B/s]\n",
            "100% 16.5k/16.5k [00:00<00:00, 17.0MB/s]\n",
            "sample_submission.csv: Skipping, found more recently modified local copy (use --force to force download)\n"
          ],
          "name": "stdout"
        }
      ]
    },
    {
      "cell_type": "code",
      "metadata": {
        "id": "Dt0O5wAIw2NJ",
        "outputId": "94d3fa44-28e0-4bc0-c486-013f886900da",
        "colab": {
          "base_uri": "https://localhost:8080/"
        }
      },
      "source": [
        "!unzip dev.npy.zip\n",
        "!unzip dev_labels.npy.zip\n",
        "!unzip train.npy.zip\n",
        "!unzip train_labels.npy.zip\n",
        "!unzip test.npy.zip"
      ],
      "execution_count": 16,
      "outputs": [
        {
          "output_type": "stream",
          "text": [
            "Archive:  dev.npy.zip\n",
            "  inflating: dev.npy                 \n",
            "Archive:  dev_labels.npy.zip\n",
            "  inflating: dev_labels.npy          \n",
            "Archive:  train.npy.zip\n",
            "  inflating: train.npy               \n",
            "Archive:  train_labels.npy.zip\n",
            "  inflating: train_labels.npy        \n",
            "Archive:  test.npy.zip\n",
            "  inflating: test.npy                \n"
          ],
          "name": "stdout"
        }
      ]
    },
    {
      "cell_type": "markdown",
      "metadata": {
        "id": "R1JFMsK4Bx10"
      },
      "source": [
        "#### Mount Google Drive (in Google Colab)"
      ]
    },
    {
      "cell_type": "code",
      "metadata": {
        "id": "mxyu7zHfw4W9",
        "outputId": "1fa9c276-4895-4229-91b2-1f3cd5dc2ea0",
        "colab": {
          "base_uri": "https://localhost:8080/"
        }
      },
      "source": [
        "from google.colab import drive\n",
        "drive.mount('/content/drive')"
      ],
      "execution_count": 9,
      "outputs": [
        {
          "output_type": "stream",
          "text": [
            "Mounted at /content/drive\n"
          ],
          "name": "stdout"
        }
      ]
    },
    {
      "cell_type": "markdown",
      "metadata": {
        "id": "xHDQy4y8CBew"
      },
      "source": [
        "# Import Libraries"
      ]
    },
    {
      "cell_type": "code",
      "metadata": {
        "id": "SDGhtPKoxrwD"
      },
      "source": [
        "import time\n",
        "import os\n",
        "import csv\n",
        "from datetime import datetime\n",
        "import math\n",
        "import numpy as np\n",
        "import torch\n",
        "import torch.nn as nn\n",
        "import torch.nn.functional as F\n",
        "import torch.optim as optim\n",
        "from torchvision import datasets, transforms\n",
        "from torch.autograd import Variable\n",
        "from ctcdecode import CTCBeamDecoder\n",
        "from torch.nn import CTCLoss\n",
        "from torch.nn.utils.rnn import *"
      ],
      "execution_count": 17,
      "outputs": []
    },
    {
      "cell_type": "markdown",
      "metadata": {
        "id": "da05iptOCKVo"
      },
      "source": [
        "### Levenshtein Distance Calculation"
      ]
    },
    {
      "cell_type": "code",
      "metadata": {
        "id": "OPBaM5lix3UL"
      },
      "source": [
        "def levenshtein(seq1, seq2):\n",
        "    size_x = len(seq1) + 1\n",
        "    size_y = len(seq2) + 1\n",
        "    matrix = np.zeros ((size_x, size_y))\n",
        "    for x in range(size_x):\n",
        "        matrix [x, 0] = x\n",
        "    for y in range(size_y):\n",
        "        matrix [0, y] = y\n",
        "\n",
        "    for x in range(1, size_x):\n",
        "        for y in range(1, size_y):\n",
        "            if seq1[x-1] == seq2[y-1]:\n",
        "                matrix [x,y] = min(\n",
        "                    matrix[x-1, y] + 1,\n",
        "                    matrix[x-1, y-1],\n",
        "                    matrix[x, y-1] + 1\n",
        "                )\n",
        "            else:\n",
        "                matrix [x,y] = min(\n",
        "                    matrix[x-1,y] + 1,\n",
        "                    matrix[x-1,y-1] + 1,\n",
        "                    matrix[x,y-1] + 1\n",
        "                )\n",
        "    return (matrix[size_x - 1, size_y - 1])"
      ],
      "execution_count": 18,
      "outputs": []
    },
    {
      "cell_type": "code",
      "metadata": {
        "id": "sHuM_oF3x5Os"
      },
      "source": [
        "N_PHONEMES = 41\n",
        "PHONEME_LIST = [\n",
        "    \" \",\n",
        "    \"SIL\",\n",
        "    \"SPN\",\n",
        "    \"AA\",\n",
        "    \"AE\",\n",
        "    \"AH\",\n",
        "    \"AO\",\n",
        "    \"AW\",\n",
        "    \"AY\",\n",
        "    \"B\",\n",
        "    \"CH\",\n",
        "    \"D\",\n",
        "    \"DH\",\n",
        "    \"EH\",\n",
        "    \"ER\",\n",
        "    \"EY\",\n",
        "    \"F\",\n",
        "    \"G\",\n",
        "    \"H\",\n",
        "    \"IH\",\n",
        "    \"IY\",\n",
        "    \"JH\",\n",
        "    \"K\",\n",
        "    \"L\",\n",
        "    \"M\",\n",
        "    \"N\",\n",
        "    \"NG\",\n",
        "    \"OW\",\n",
        "    \"OY\",\n",
        "    \"P\",\n",
        "    \"R\",\n",
        "    \"S\",\n",
        "    \"SH\",\n",
        "    \"T\",\n",
        "    \"TH\",\n",
        "    \"UH\",\n",
        "    \"UW\",\n",
        "    \"V\",\n",
        "    \"W\",\n",
        "    \"Y\",\n",
        "    \"Z\",\n",
        "    \"ZH\"\n",
        "]\n",
        "\n",
        "PHONEME_MAP = [\n",
        "    \" \",\n",
        "    \".\", #SIL\n",
        "    \"!\", #SPN\n",
        "    \"a\", #AA\n",
        "    \"A\", #AE\n",
        "    \"h\", #AH\n",
        "    \"o\", #AO\n",
        "    \"w\", #AW\n",
        "    \"y\", #AY\n",
        "    \"b\", #B\n",
        "    \"c\", #CH\n",
        "    \"d\", #D\n",
        "    \"D\", #DH\n",
        "    \"e\", #EH\n",
        "    \"r\", #ER\n",
        "    \"E\", #EY\n",
        "    \"f\", #F\n",
        "    \"g\", #G\n",
        "    \"H\", #H\n",
        "    \"i\", #IH \n",
        "    \"I\", #IY\n",
        "    \"j\", #JH\n",
        "    \"k\", #K\n",
        "    \"l\", #L\n",
        "    \"m\", #M\n",
        "    \"n\", #N\n",
        "    \"N\", #NG\n",
        "    \"O\", #OW\n",
        "    \"Y\", #OY\n",
        "    \"p\", #P \n",
        "    \"R\", #R\n",
        "    \"s\", #S\n",
        "    \"S\", #SH\n",
        "    \"t\", #T\n",
        "    \"T\", #TH\n",
        "    \"u\", #UH\n",
        "    \"U\", #UW\n",
        "    \"v\", #V\n",
        "    \"W\", #W\n",
        "    \"?\", #Y\n",
        "    \"z\", #Z\n",
        "    \"Z\" #ZH\n",
        "]\n"
      ],
      "execution_count": 19,
      "outputs": []
    },
    {
      "cell_type": "markdown",
      "metadata": {
        "id": "uBuYJO8PCT0F"
      },
      "source": [
        "## Required Arguments"
      ]
    },
    {
      "cell_type": "code",
      "metadata": {
        "id": "uWz9HusHx7Mp"
      },
      "source": [
        "class Args():\n",
        "  def __init__(self):\n",
        "    self.data_dir='./'\n",
        "    self.weights_dir='/content/drive/My Drive'\n",
        "    self.model='LSTM'\n",
        "    self.nhid=384\n",
        "    self.nlayers=4\n",
        "    self.lr=1e-3\n",
        "    self.clip=0.25\n",
        "    self.epochs=30\n",
        "    self.batch_size=40\n",
        "    self.dropout=0.4\n",
        "    self.dropouth=0.3\n",
        "    self.dropouti=0.65\n",
        "    self.seed=11785\n",
        "    self.cuda = True\n",
        "    self.log_interval=40\n",
        "    self.wdecay=1.2e-6\n",
        "    self.beam_width=60\n",
        "\n",
        "args = Args()"
      ],
      "execution_count": 20,
      "outputs": []
    },
    {
      "cell_type": "markdown",
      "metadata": {
        "id": "Y-IJ9OEyCZ1P"
      },
      "source": [
        "## Data"
      ]
    },
    {
      "cell_type": "code",
      "metadata": {
        "id": "OCcIajpdx_qF"
      },
      "source": [
        "train_labels = np.load('train_labels.npy', allow_pickle=True)\n",
        "dev_labels = np.load('dev_labels.npy', allow_pickle=True)"
      ],
      "execution_count": 21,
      "outputs": []
    },
    {
      "cell_type": "code",
      "metadata": {
        "id": "lzp-MQX7yBw4"
      },
      "source": [
        "counters = [0] * 41\n",
        "def calc_distribution(labels):\n",
        "  for l in labels:\n",
        "      for p in l:\n",
        "          counters[p] += 1\n",
        "calc_distribution(train_labels)\n",
        "calc_distribution(dev_labels)\n",
        "normalized = [c / sum(counters) for c in counters]"
      ],
      "execution_count": 22,
      "outputs": []
    },
    {
      "cell_type": "code",
      "metadata": {
        "id": "iN32kUAEyEDW",
        "outputId": "c1058ede-1ac8-4ade-b88b-c44615789317",
        "colab": {
          "base_uri": "https://localhost:8080/"
        }
      },
      "source": [
        "PHONEME_DISTRIBUTION = np.array([0.0, *normalized])\n",
        "PHONEME_DISTRIBUTION"
      ],
      "execution_count": 23,
      "outputs": [
        {
          "output_type": "execute_result",
          "data": {
            "text/plain": [
              "array([0.        , 0.05271646, 0.00067795, 0.01320721, 0.02685725,\n",
              "       0.09766807, 0.01354033, 0.00577882, 0.01682307, 0.01700335,\n",
              "       0.00538583, 0.04696975, 0.02956839, 0.02842286, 0.02692916,\n",
              "       0.01485176, 0.01767896, 0.00835117, 0.02113829, 0.06063651,\n",
              "       0.03533551, 0.00441121, 0.02543579, 0.03741151, 0.02843624,\n",
              "       0.06809466, 0.01049339, 0.0123346 , 0.00098399, 0.01806091,\n",
              "       0.03871557, 0.04448503, 0.00787857, 0.06505541, 0.0062066 ,\n",
              "       0.0048915 , 0.01229881, 0.01904022, 0.0223758 , 0.00636848,\n",
              "       0.02704087, 0.00044015])"
            ]
          },
          "metadata": {
            "tags": []
          },
          "execution_count": 23
        }
      ]
    },
    {
      "cell_type": "markdown",
      "metadata": {
        "id": "43BVMDg-CgpD"
      },
      "source": [
        "## Utility Functions"
      ]
    },
    {
      "cell_type": "code",
      "metadata": {
        "id": "__HJ0flsyHai"
      },
      "source": [
        "def to_float_tensor(numpy_array):\n",
        "    return torch.from_numpy(numpy_array).float()\n",
        "\n",
        "def to_long_tensor(numpy_array):\n",
        "    return torch.from_numpy(numpy_array).long()\n",
        "\n",
        "def to_int_tensor(numpy_array):\n",
        "    return torch.from_numpy(numpy_array).int()\n",
        "\n",
        "def to_tensor(numpy_array):\n",
        "    return torch.from_numpy(numpy_array)\n",
        "\n",
        "def to_np(x):\n",
        "    return x.data.cpu().numpy()\n",
        "\n",
        "def to_variable(tensor):\n",
        "    if torch.cuda.is_available():\n",
        "        tensor = tensor.cuda()\n",
        "    return torch.autograd.Variable(tensor)"
      ],
      "execution_count": 24,
      "outputs": []
    },
    {
      "cell_type": "markdown",
      "metadata": {
        "id": "OqexwBe8ClSO"
      },
      "source": [
        "## Dataset Class"
      ]
    },
    {
      "cell_type": "code",
      "metadata": {
        "id": "e3CwF6CuyQbN"
      },
      "source": [
        "class MyDataset(torch.utils.data.Dataset):\n",
        "    def __init__(self, x, y):\n",
        "        self.x = x\n",
        "        self.y = y\n",
        "        if y is not None:\n",
        "            self.total_phonemes = sum(len(yi) for yi in y)\n",
        "        else:\n",
        "            self.total_phonemes = -1\n",
        "\n",
        "    def __getitem__(self, idx):\n",
        "        frames = self.x[idx]\n",
        "        return to_float_tensor(frames), to_int_tensor(self.y[idx] + 1 if self.y is not None else np.array([-1]))\n",
        "\n",
        "    def __len__(self):\n",
        "        return self.x.shape[0]  "
      ],
      "execution_count": 25,
      "outputs": []
    },
    {
      "cell_type": "code",
      "metadata": {
        "id": "PLwlEb3gyWDt"
      },
      "source": [
        "def my_collate(batch):\n",
        "    batch_size = len(batch)\n",
        "    batch = sorted(batch, key=lambda b: b[0].size(0), reverse=True)\n",
        "    max_seq_len = batch[0][0].size(0)\n",
        "    channels = batch[0][0].size(1)\n",
        "    pack = torch.zeros(max_seq_len, batch_size, channels)\n",
        "    all_labels = []\n",
        "    seq_sizes = []\n",
        "    label_sizes = torch.zeros(batch_size).int()\n",
        "    for i, (frames, labels) in enumerate(batch):\n",
        "        seq_size = frames.size(0)\n",
        "        seq_sizes.append(seq_size)\n",
        "\n",
        "        label_size = labels.size(0)\n",
        "        label_sizes[i] = label_size\n",
        "\n",
        "        pack[:seq_size, i, :] = frames\n",
        "        all_labels.append(labels)\n",
        "\n",
        "    return pack, seq_sizes, all_labels, label_sizes"
      ],
      "execution_count": 26,
      "outputs": []
    },
    {
      "cell_type": "code",
      "metadata": {
        "id": "sxr1zcBeyaoU"
      },
      "source": [
        "def get_data_loaders(args, use_dev_for_train=False):\n",
        "\n",
        "    xdev = np.load(args.data_dir + '/dev.npy', allow_pickle=True)\n",
        "    ydev = np.load(args.data_dir + '/dev_labels.npy', allow_pickle=True)\n",
        "    if use_dev_for_train:\n",
        "        xtrain = np.load(args.data_dir + '/dev.npy', allow_pickle=True)\n",
        "        ytrain = np.load(args.data_dir + '/dev_labels.npy', allow_pickle=True)\n",
        "    else:\n",
        "        xtrain = np.load(args.data_dir + '/train.npy', allow_pickle=True)\n",
        "        ytrain = np.load(args.data_dir + '/train_labels.npy', allow_pickle=True)\n",
        "\n",
        "    kwargs = {'num_workers': 3, 'pin_memory': True} if args.cuda else {}\n",
        "    train_loader = torch.utils.data.DataLoader(\n",
        "        MyDataset(xtrain, ytrain),\n",
        "        batch_size=args.batch_size, shuffle=True, collate_fn=my_collate, **kwargs)\n",
        "    dev_loader = torch.utils.data.DataLoader(\n",
        "        MyDataset(xdev, ydev),\n",
        "        batch_size=args.batch_size, shuffle=True, collate_fn=my_collate, **kwargs)\n",
        "\n",
        "    return train_loader, dev_loader"
      ],
      "execution_count": 27,
      "outputs": []
    },
    {
      "cell_type": "markdown",
      "metadata": {
        "id": "JrRJmoGfCqZ7"
      },
      "source": [
        "## Model"
      ]
    },
    {
      "cell_type": "code",
      "metadata": {
        "id": "nXs7ki98ygIU"
      },
      "source": [
        "class LockedDropout(nn.Module):\n",
        "    def __init__(self):\n",
        "        super().__init__()\n",
        "\n",
        "    def forward(self, x, dropout=0.5):\n",
        "        if dropout == 0 or not self.training:\n",
        "            return x\n",
        "        mask = x.data.new(1, x.size(1), x.size(2))\n",
        "        mask = mask.bernoulli_(1 - dropout)\n",
        "        mask = Variable(mask, requires_grad=False) / (1 - dropout)\n",
        "        mask = mask.expand_as(x)\n",
        "        return mask * x"
      ],
      "execution_count": 28,
      "outputs": []
    },
    {
      "cell_type": "code",
      "metadata": {
        "id": "kpUuOp6b2A82"
      },
      "source": [
        "class SequenceWise(nn.Module):\n",
        "    def __init__(self, module):\n",
        "        super(SequenceWise, self).__init__()\n",
        "        self.module = module\n",
        "\n",
        "    def forward(self, x):\n",
        "        t, n = x.size(0), x.size(1)\n",
        "        x = x.view(t * n, -1)\n",
        "        x = self.module(x)\n",
        "        x = x.view(t, n, -1)\n",
        "        return x\n",
        "\n",
        "    def __repr__(self):\n",
        "        tmpstr = self.__class__.__name__ + ' (\\n'\n",
        "        tmpstr += self.module.__repr__()\n",
        "        tmpstr += ')'\n",
        "        return tmpstr"
      ],
      "execution_count": 29,
      "outputs": []
    },
    {
      "cell_type": "code",
      "metadata": {
        "id": "zEtIrJnO2FeP"
      },
      "source": [
        "class BnLSTM(nn.Module):\n",
        "    def __init__(self, input_size, hidden_size, rnn_type=nn.LSTM, batch_norm=False):\n",
        "        super(BnLSTM, self).__init__()\n",
        "        self.batch_norm = SequenceWise(nn.BatchNorm1d(hidden_size * 2)) if batch_norm else None\n",
        "        self.rnn = rnn_type(input_size, hidden_size, bidirectional=True)\n",
        "\n",
        "    def forward(self, x, seq_sizes):\n",
        "        out = pack_padded_sequence(x, seq_sizes)\n",
        "        out, h = self.rnn(out)\n",
        "        out, _ = pad_packed_sequence(out)\n",
        "\n",
        "        if self.batch_norm is not None:\n",
        "            out = self.batch_norm(out)\n",
        "        return out, h"
      ],
      "execution_count": 30,
      "outputs": []
    },
    {
      "cell_type": "code",
      "metadata": {
        "id": "ZCsX7Kvt2HmG"
      },
      "source": [
        "class MyModel(nn.Module):\n",
        "    def __init__(self, nhid, nlayers, dropout=0, dropouth=0, dropouti=0, n_input=13, n_output=42):\n",
        "        super(MyModel, self).__init__()\n",
        "        self.nhid = nhid\n",
        "        self.nlayers = nlayers\n",
        "        self.lockdrop = LockedDropout()\n",
        "        self.dropout = dropout\n",
        "        self.dropouth = dropouth\n",
        "        self.dropouti = dropouti\n",
        "\n",
        "        self.cnns = torch.nn.Sequential(\n",
        "            nn.BatchNorm1d(n_input),\n",
        "            nn.Conv1d(n_input, nhid, 3, padding=1),\n",
        "            nn.BatchNorm1d(nhid),\n",
        "            nn.Hardtanh(inplace=True)\n",
        "        )\n",
        "\n",
        "        rnns = [BnLSTM(nhid, nhid)]\n",
        "        for i in range(nlayers - 1):\n",
        "            rnns.append(BnLSTM(nhid * 2, nhid))\n",
        "\n",
        "        self.rnns = torch.nn.ModuleList(rnns)\n",
        "        self.linear_out = nn.Linear(nhid * 2, n_output)\n",
        "        self.init_weights()\n",
        "        self.hs = []\n",
        "\n",
        "    def forward(self, data, seq_sizes):\n",
        "        data = data.permute(1, 2, 0)\n",
        "        data = data.contiguous()\n",
        "        out = self.cnns(data)\n",
        "        out = out.permute(2, 0, 1)\n",
        "        out = self.lockdrop(out, self.dropouti)\n",
        "        for l, rnn in enumerate(self.rnns):\n",
        "            out, h = rnn(out, seq_sizes)\n",
        "            out = self.lockdrop(out, self.dropout if l == self.nlayers - 1 else self.dropouth)\n",
        "\n",
        "        out = self.linear_out(out)\n",
        "        return out\n",
        "\n",
        "    def init_weights(self):\n",
        "        for m in self.modules():\n",
        "            if isinstance(m, nn.Conv1d):\n",
        "                nn.init.kaiming_normal_(m.weight.data)\n",
        "            elif isinstance(m, nn.BatchNorm1d):\n",
        "                m.weight.data.fill_(1)\n",
        "                m.bias.data.zero_()\n",
        "            elif isinstance(m, nn.Linear):\n",
        "                m.bias.data.zero_()\n",
        "        \n",
        "        self.linear_out.bias.data = to_float_tensor(PHONEME_DISTRIBUTION)\n",
        "\n",
        "    def init_hidden(self, bsz):\n",
        "        weight = next(self.parameters()).data\n",
        "        self.hs = []\n",
        "        for l in range(self.nlayers):\n",
        "            n = self.nhid\n",
        "            self.hs.append((Variable(weight.new(1, bsz, n).zero_()),\n",
        "                            Variable(weight.new(1, bsz, n).zero_())))\n",
        "\n",
        "    def repackage_hidden(self, h):\n",
        "        if type(h) == Variable:\n",
        "            return Variable(h.data)\n",
        "        else:\n",
        "            return tuple(self.repackage_hidden(v) for v in h)"
      ],
      "execution_count": 31,
      "outputs": []
    },
    {
      "cell_type": "code",
      "metadata": {
        "id": "0GDNBJ8e2jxF"
      },
      "source": [
        "def cer(s1, s2):\n",
        "    s1, s2, = s1.replace(' ', ''), s2.replace(' ', '')\n",
        "    return levenshtein(s1, s2)"
      ],
      "execution_count": 32,
      "outputs": []
    },
    {
      "cell_type": "markdown",
      "metadata": {
        "id": "AYRktdcDCwso"
      },
      "source": [
        "## Train / Evaluate Functions"
      ]
    },
    {
      "cell_type": "code",
      "metadata": {
        "id": "MlkHIC_i2oPp"
      },
      "source": [
        "def label2str(label):\n",
        "    return \"\".join(PHONEME_MAP[i] for i in label)\n",
        "\n",
        "\n",
        "def decode(output, seq_sizes, beam_width=args.beam_width):\n",
        "    decoder = CTCBeamDecoder(labels=PHONEME_MAP, blank_id=0, beam_width=beam_width)\n",
        "    output = torch.transpose(output, 0, 1) \n",
        "    probs = F.softmax(output, dim=2).data.cpu()\n",
        "\n",
        "    output, scores, timesteps, out_seq_len = decoder.decode(probs=probs, seq_lens=torch.IntTensor(seq_sizes))\n",
        "\n",
        "    decoded = []\n",
        "    for i in range(output.size(0)):\n",
        "        chrs = \"\"\n",
        "        if out_seq_len[i, 0] != 0:\n",
        "            chrs = \"\".join(PHONEME_MAP[o] for o in output[i, 0, :out_seq_len[i, 0]])\n",
        "        decoded.append(chrs)\n",
        "    return decoded\n",
        "\n",
        "\n",
        "def print_score_board(score_board, N=10):\n",
        "    score_board.sort(key=lambda x: x[0])\n",
        "    print(\"\\nTop-{}\\n\".format(N))\n",
        "    print(\"\\n\".join([\"CER:\\t{:6.4f}\\nLabel:\\t{}\\nMine:\\t{}\\n\".format(i[0], i[1], i[2]) for i in score_board[:N]]))\n",
        "    print(\"\\nLast-{}\\n\".format(N))\n",
        "    print(\"\\n\".join([\"CER:\\t{:6.4f}\\nLabel:\\t{}\\nMine:\\t{}\\n\".format(i[0], i[1], i[2]) for i in score_board[-N:]]))\n",
        "\n",
        "\n",
        "def evaluate(model, criterion, loader, args, calc_cer=False):\n",
        "    model.eval()\n",
        "    total_loss = 0\n",
        "    total_cer = 0\n",
        "    score_board = []\n",
        "    with torch.no_grad():\n",
        "      for batch, (frames, seq_sizes, labels, label_sizes) in enumerate(loader):\n",
        "          batch += 1\n",
        "\n",
        "          if args.cuda:\n",
        "              frames = frames.cuda()\n",
        "          frames = Variable(frames)\n",
        "          output = model(frames, seq_sizes)\n",
        "\n",
        "          loss = criterion(output,\n",
        "                          Variable(torch.cat(labels).int()),\n",
        "                          Variable(torch.IntTensor(seq_sizes)),\n",
        "                          Variable(label_sizes))\n",
        "          total_loss += loss.item()\n",
        "\n",
        "          if (batch == 1) or calc_cer:\n",
        "              decoded = decode(output, seq_sizes)\n",
        "              label_str = [label2str(label) for label in labels]\n",
        "              for l, m in zip(label_str, decoded):\n",
        "                  e = cer(l, m)\n",
        "                  total_cer += e\n",
        "                  score_board.append([e * 100.0 / len(l), l, m])\n",
        "\n",
        "    print_score_board(score_board)\n",
        "\n",
        "    total_phonemes = loader.dataset.total_phonemes\n",
        "    return total_loss / (len(loader) * args.batch_size), total_loss / total_phonemes, total_cer * 100.0 / total_phonemes\n",
        "\n",
        "\n",
        "def train(epoch, model, optimizer, criterion, loader, args):\n",
        "    model.train()\n",
        "    sum_loss, sum_phonemes = 0, 0\n",
        "    start_time = time.time()\n",
        "    optimizer.zero_grad()\n",
        "\n",
        "    for batch, (frames, seq_sizes, labels, label_sizes) in enumerate(loader):\n",
        "        batch += 1\n",
        "\n",
        "        sum_phonemes += sum(len(l) for l in labels)\n",
        "\n",
        "        if args.cuda:\n",
        "            frames = frames.cuda()\n",
        "        frames = Variable(frames)\n",
        "\n",
        "        output = model(frames, seq_sizes)\n",
        "\n",
        "        loss = criterion(output,\n",
        "                         Variable(torch.cat(labels).int()),\n",
        "                         Variable(torch.IntTensor(seq_sizes)),\n",
        "                         Variable(label_sizes))\n",
        "        loss.backward()\n",
        "\n",
        "        sum_loss += loss.item()\n",
        "\n",
        "        torch.nn.utils.clip_grad_norm_(model.parameters(), args.clip)\n",
        "\n",
        "        optimizer.step()\n",
        "        optimizer.zero_grad()\n",
        "\n",
        "        if batch % args.log_interval == 0:\n",
        "            elapsed = time.time() - start_time\n",
        "            avg_loss = sum_loss / sum_phonemes\n",
        "            print(\n",
        "                '| epoch {:3d} | {:5d}/{:5d} batches ({:5.2f}%) | lr {:.2e} | {:3.0f} ms/utter | loss/utter {:5.2f} | loss/phoneme {:5.4f}'\n",
        "                .format(epoch, batch, len(loader), (100.0 * batch / len(loader)),\n",
        "                        optimizer.param_groups[0]['lr'],\n",
        "                        elapsed * 1000.0 / (args.log_interval * args.batch_size),\n",
        "                        sum_loss / (args.log_interval * args.batch_size),\n",
        "                        avg_loss))\n",
        "            sum_loss, sum_phonemes = 0, 0\n",
        "            start_time = time.time()"
      ],
      "execution_count": 33,
      "outputs": []
    },
    {
      "cell_type": "markdown",
      "metadata": {
        "id": "ethhoTS1DEc4"
      },
      "source": [
        "## Training"
      ]
    },
    {
      "cell_type": "code",
      "metadata": {
        "id": "tfX4aXp83f1L"
      },
      "source": [
        "def main(args):\n",
        "    np.random.seed(args.seed)\n",
        "    torch.manual_seed(args.seed)\n",
        "    if args.cuda:\n",
        "        torch.cuda.manual_seed(args.seed)\n",
        "\n",
        "    model = MyModel(args.nhid, args.nlayers, args.dropout, args.dropouth, args.dropouti)\n",
        "    #model.load_state_dict(torch.load(args.weights_dir+'/HW3P2.w'))\n",
        "    if args.cuda:\n",
        "        model.cuda()\n",
        "\n",
        "    train_loader, dev_loader = get_data_loaders(args)\n",
        "\n",
        "    optimizer = torch.optim.Adam(model.parameters(), lr=args.lr, weight_decay=args.wdecay)\n",
        "    criterion = CTCLoss()\n",
        "    scheduler = torch.optim.lr_scheduler.ReduceLROnPlateau(optimizer, patience=1, threshold=0.01, verbose=True)\n",
        "    for epoch in range(1, args.epochs + 1):\n",
        "        print(datetime.now())\n",
        "        epoch_start_time = time.time()\n",
        "        train(epoch, model, optimizer, criterion, train_loader, args)\n",
        "        if True:\n",
        "            val_loss_utter, val_loss_phoneme, val_cer = evaluate(model, criterion, dev_loader, args, calc_cer=True)\n",
        "            scheduler.step(val_loss_phoneme)\n",
        "            print('-' * 100)\n",
        "            print('| end of epoch {:3d} | time: {:5.2f}s | loss/utter {:5.2f} | loss/phoneme {:5.4f} | valid cer {:5.4f}'\n",
        "                  .format(epoch, (time.time() - epoch_start_time), val_loss_utter, val_loss_phoneme, val_cer))\n",
        "            print('-' * 100)\n",
        "\n",
        "            if not os.path.exists(args.weights_dir):\n",
        "                os.makedirs(args.weights_dir)\n",
        "            weight_fname = \"{}/HW3P2.w\".format(args.weights_dir)\n",
        "            torch.save(model.state_dict(), weight_fname)"
      ],
      "execution_count": 37,
      "outputs": []
    },
    {
      "cell_type": "code",
      "metadata": {
        "id": "nf4b5Kpf4Xbl"
      },
      "source": [
        "args.cuda = torch.cuda.is_available() and args.cuda"
      ],
      "execution_count": 38,
      "outputs": []
    },
    {
      "cell_type": "code",
      "metadata": {
        "id": "iG7sitMB4hVA",
        "outputId": "1224f1d0-0041-4987-f10c-55ec3d8d056b",
        "colab": {
          "base_uri": "https://localhost:8080/",
          "height": 354
        }
      },
      "source": [
        "main(args)"
      ],
      "execution_count": 39,
      "outputs": [
        {
          "output_type": "stream",
          "text": [
            "2020-11-15 17:41:11.787601\n",
            "| epoch   1 |    40/  551 batches ( 7.26%) | lr 1.00e-03 |  29 ms/utter | loss/utter  0.10 | loss/phoneme 0.0007\n",
            "| epoch   1 |    80/  551 batches (14.52%) | lr 1.00e-03 |  28 ms/utter | loss/utter  0.09 | loss/phoneme 0.0007\n"
          ],
          "name": "stdout"
        },
        {
          "output_type": "error",
          "ename": "KeyboardInterrupt",
          "evalue": "ignored",
          "traceback": [
            "\u001b[0;31m---------------------------------------------------------------------------\u001b[0m",
            "\u001b[0;31mKeyboardInterrupt\u001b[0m                         Traceback (most recent call last)",
            "\u001b[0;32m<ipython-input-39-b3f47c9a9b7f>\u001b[0m in \u001b[0;36m<module>\u001b[0;34m()\u001b[0m\n\u001b[0;32m----> 1\u001b[0;31m \u001b[0mmain\u001b[0m\u001b[0;34m(\u001b[0m\u001b[0margs\u001b[0m\u001b[0;34m)\u001b[0m\u001b[0;34m\u001b[0m\u001b[0;34m\u001b[0m\u001b[0m\n\u001b[0m",
            "\u001b[0;32m<ipython-input-37-6eb648c9a313>\u001b[0m in \u001b[0;36mmain\u001b[0;34m(args)\u001b[0m\n\u001b[1;32m     18\u001b[0m         \u001b[0mprint\u001b[0m\u001b[0;34m(\u001b[0m\u001b[0mdatetime\u001b[0m\u001b[0;34m.\u001b[0m\u001b[0mnow\u001b[0m\u001b[0;34m(\u001b[0m\u001b[0;34m)\u001b[0m\u001b[0;34m)\u001b[0m\u001b[0;34m\u001b[0m\u001b[0;34m\u001b[0m\u001b[0m\n\u001b[1;32m     19\u001b[0m         \u001b[0mepoch_start_time\u001b[0m \u001b[0;34m=\u001b[0m \u001b[0mtime\u001b[0m\u001b[0;34m.\u001b[0m\u001b[0mtime\u001b[0m\u001b[0;34m(\u001b[0m\u001b[0;34m)\u001b[0m\u001b[0;34m\u001b[0m\u001b[0;34m\u001b[0m\u001b[0m\n\u001b[0;32m---> 20\u001b[0;31m         \u001b[0mtrain\u001b[0m\u001b[0;34m(\u001b[0m\u001b[0mepoch\u001b[0m\u001b[0;34m,\u001b[0m \u001b[0mmodel\u001b[0m\u001b[0;34m,\u001b[0m \u001b[0moptimizer\u001b[0m\u001b[0;34m,\u001b[0m \u001b[0mcriterion\u001b[0m\u001b[0;34m,\u001b[0m \u001b[0mtrain_loader\u001b[0m\u001b[0;34m,\u001b[0m \u001b[0margs\u001b[0m\u001b[0;34m)\u001b[0m\u001b[0;34m\u001b[0m\u001b[0;34m\u001b[0m\u001b[0m\n\u001b[0m\u001b[1;32m     21\u001b[0m         \u001b[0;32mif\u001b[0m \u001b[0;32mTrue\u001b[0m\u001b[0;34m:\u001b[0m\u001b[0;34m\u001b[0m\u001b[0;34m\u001b[0m\u001b[0m\n\u001b[1;32m     22\u001b[0m             \u001b[0mval_loss_utter\u001b[0m\u001b[0;34m,\u001b[0m \u001b[0mval_loss_phoneme\u001b[0m\u001b[0;34m,\u001b[0m \u001b[0mval_cer\u001b[0m \u001b[0;34m=\u001b[0m \u001b[0mevaluate\u001b[0m\u001b[0;34m(\u001b[0m\u001b[0mmodel\u001b[0m\u001b[0;34m,\u001b[0m \u001b[0mcriterion\u001b[0m\u001b[0;34m,\u001b[0m \u001b[0mdev_loader\u001b[0m\u001b[0;34m,\u001b[0m \u001b[0margs\u001b[0m\u001b[0;34m,\u001b[0m \u001b[0mcalc_cer\u001b[0m\u001b[0;34m=\u001b[0m\u001b[0;32mTrue\u001b[0m\u001b[0;34m)\u001b[0m\u001b[0;34m\u001b[0m\u001b[0;34m\u001b[0m\u001b[0m\n",
            "\u001b[0;32m<ipython-input-33-10b3c7281b44>\u001b[0m in \u001b[0;36mtrain\u001b[0;34m(epoch, model, optimizer, criterion, loader, args)\u001b[0m\n\u001b[1;32m     76\u001b[0m         \u001b[0mframes\u001b[0m \u001b[0;34m=\u001b[0m \u001b[0mVariable\u001b[0m\u001b[0;34m(\u001b[0m\u001b[0mframes\u001b[0m\u001b[0;34m)\u001b[0m\u001b[0;34m\u001b[0m\u001b[0;34m\u001b[0m\u001b[0m\n\u001b[1;32m     77\u001b[0m \u001b[0;34m\u001b[0m\u001b[0m\n\u001b[0;32m---> 78\u001b[0;31m         \u001b[0moutput\u001b[0m \u001b[0;34m=\u001b[0m \u001b[0mmodel\u001b[0m\u001b[0;34m(\u001b[0m\u001b[0mframes\u001b[0m\u001b[0;34m,\u001b[0m \u001b[0mseq_sizes\u001b[0m\u001b[0;34m)\u001b[0m\u001b[0;34m\u001b[0m\u001b[0;34m\u001b[0m\u001b[0m\n\u001b[0m\u001b[1;32m     79\u001b[0m \u001b[0;34m\u001b[0m\u001b[0m\n\u001b[1;32m     80\u001b[0m         loss = criterion(output,\n",
            "\u001b[0;32m/usr/local/lib/python3.6/dist-packages/torch/nn/modules/module.py\u001b[0m in \u001b[0;36m_call_impl\u001b[0;34m(self, *input, **kwargs)\u001b[0m\n\u001b[1;32m    725\u001b[0m             \u001b[0mresult\u001b[0m \u001b[0;34m=\u001b[0m \u001b[0mself\u001b[0m\u001b[0;34m.\u001b[0m\u001b[0m_slow_forward\u001b[0m\u001b[0;34m(\u001b[0m\u001b[0;34m*\u001b[0m\u001b[0minput\u001b[0m\u001b[0;34m,\u001b[0m \u001b[0;34m**\u001b[0m\u001b[0mkwargs\u001b[0m\u001b[0;34m)\u001b[0m\u001b[0;34m\u001b[0m\u001b[0;34m\u001b[0m\u001b[0m\n\u001b[1;32m    726\u001b[0m         \u001b[0;32melse\u001b[0m\u001b[0;34m:\u001b[0m\u001b[0;34m\u001b[0m\u001b[0;34m\u001b[0m\u001b[0m\n\u001b[0;32m--> 727\u001b[0;31m             \u001b[0mresult\u001b[0m \u001b[0;34m=\u001b[0m \u001b[0mself\u001b[0m\u001b[0;34m.\u001b[0m\u001b[0mforward\u001b[0m\u001b[0;34m(\u001b[0m\u001b[0;34m*\u001b[0m\u001b[0minput\u001b[0m\u001b[0;34m,\u001b[0m \u001b[0;34m**\u001b[0m\u001b[0mkwargs\u001b[0m\u001b[0;34m)\u001b[0m\u001b[0;34m\u001b[0m\u001b[0;34m\u001b[0m\u001b[0m\n\u001b[0m\u001b[1;32m    728\u001b[0m         for hook in itertools.chain(\n\u001b[1;32m    729\u001b[0m                 \u001b[0m_global_forward_hooks\u001b[0m\u001b[0;34m.\u001b[0m\u001b[0mvalues\u001b[0m\u001b[0;34m(\u001b[0m\u001b[0;34m)\u001b[0m\u001b[0;34m,\u001b[0m\u001b[0;34m\u001b[0m\u001b[0;34m\u001b[0m\u001b[0m\n",
            "\u001b[0;32m<ipython-input-31-7ff09a6724c8>\u001b[0m in \u001b[0;36mforward\u001b[0;34m(self, data, seq_sizes)\u001b[0m\n\u001b[1;32m     32\u001b[0m         \u001b[0mout\u001b[0m \u001b[0;34m=\u001b[0m \u001b[0mself\u001b[0m\u001b[0;34m.\u001b[0m\u001b[0mlockdrop\u001b[0m\u001b[0;34m(\u001b[0m\u001b[0mout\u001b[0m\u001b[0;34m,\u001b[0m \u001b[0mself\u001b[0m\u001b[0;34m.\u001b[0m\u001b[0mdropouti\u001b[0m\u001b[0;34m)\u001b[0m\u001b[0;34m\u001b[0m\u001b[0;34m\u001b[0m\u001b[0m\n\u001b[1;32m     33\u001b[0m         \u001b[0;32mfor\u001b[0m \u001b[0ml\u001b[0m\u001b[0;34m,\u001b[0m \u001b[0mrnn\u001b[0m \u001b[0;32min\u001b[0m \u001b[0menumerate\u001b[0m\u001b[0;34m(\u001b[0m\u001b[0mself\u001b[0m\u001b[0;34m.\u001b[0m\u001b[0mrnns\u001b[0m\u001b[0;34m)\u001b[0m\u001b[0;34m:\u001b[0m\u001b[0;34m\u001b[0m\u001b[0;34m\u001b[0m\u001b[0m\n\u001b[0;32m---> 34\u001b[0;31m             \u001b[0mout\u001b[0m\u001b[0;34m,\u001b[0m \u001b[0mh\u001b[0m \u001b[0;34m=\u001b[0m \u001b[0mrnn\u001b[0m\u001b[0;34m(\u001b[0m\u001b[0mout\u001b[0m\u001b[0;34m,\u001b[0m \u001b[0mseq_sizes\u001b[0m\u001b[0;34m)\u001b[0m\u001b[0;34m\u001b[0m\u001b[0;34m\u001b[0m\u001b[0m\n\u001b[0m\u001b[1;32m     35\u001b[0m             \u001b[0mout\u001b[0m \u001b[0;34m=\u001b[0m \u001b[0mself\u001b[0m\u001b[0;34m.\u001b[0m\u001b[0mlockdrop\u001b[0m\u001b[0;34m(\u001b[0m\u001b[0mout\u001b[0m\u001b[0;34m,\u001b[0m \u001b[0mself\u001b[0m\u001b[0;34m.\u001b[0m\u001b[0mdropout\u001b[0m \u001b[0;32mif\u001b[0m \u001b[0ml\u001b[0m \u001b[0;34m==\u001b[0m \u001b[0mself\u001b[0m\u001b[0;34m.\u001b[0m\u001b[0mnlayers\u001b[0m \u001b[0;34m-\u001b[0m \u001b[0;36m1\u001b[0m \u001b[0;32melse\u001b[0m \u001b[0mself\u001b[0m\u001b[0;34m.\u001b[0m\u001b[0mdropouth\u001b[0m\u001b[0;34m)\u001b[0m\u001b[0;34m\u001b[0m\u001b[0;34m\u001b[0m\u001b[0m\n\u001b[1;32m     36\u001b[0m \u001b[0;34m\u001b[0m\u001b[0m\n",
            "\u001b[0;32m/usr/local/lib/python3.6/dist-packages/torch/nn/modules/module.py\u001b[0m in \u001b[0;36m_call_impl\u001b[0;34m(self, *input, **kwargs)\u001b[0m\n\u001b[1;32m    725\u001b[0m             \u001b[0mresult\u001b[0m \u001b[0;34m=\u001b[0m \u001b[0mself\u001b[0m\u001b[0;34m.\u001b[0m\u001b[0m_slow_forward\u001b[0m\u001b[0;34m(\u001b[0m\u001b[0;34m*\u001b[0m\u001b[0minput\u001b[0m\u001b[0;34m,\u001b[0m \u001b[0;34m**\u001b[0m\u001b[0mkwargs\u001b[0m\u001b[0;34m)\u001b[0m\u001b[0;34m\u001b[0m\u001b[0;34m\u001b[0m\u001b[0m\n\u001b[1;32m    726\u001b[0m         \u001b[0;32melse\u001b[0m\u001b[0;34m:\u001b[0m\u001b[0;34m\u001b[0m\u001b[0;34m\u001b[0m\u001b[0m\n\u001b[0;32m--> 727\u001b[0;31m             \u001b[0mresult\u001b[0m \u001b[0;34m=\u001b[0m \u001b[0mself\u001b[0m\u001b[0;34m.\u001b[0m\u001b[0mforward\u001b[0m\u001b[0;34m(\u001b[0m\u001b[0;34m*\u001b[0m\u001b[0minput\u001b[0m\u001b[0;34m,\u001b[0m \u001b[0;34m**\u001b[0m\u001b[0mkwargs\u001b[0m\u001b[0;34m)\u001b[0m\u001b[0;34m\u001b[0m\u001b[0;34m\u001b[0m\u001b[0m\n\u001b[0m\u001b[1;32m    728\u001b[0m         for hook in itertools.chain(\n\u001b[1;32m    729\u001b[0m                 \u001b[0m_global_forward_hooks\u001b[0m\u001b[0;34m.\u001b[0m\u001b[0mvalues\u001b[0m\u001b[0;34m(\u001b[0m\u001b[0;34m)\u001b[0m\u001b[0;34m,\u001b[0m\u001b[0;34m\u001b[0m\u001b[0;34m\u001b[0m\u001b[0m\n",
            "\u001b[0;32m<ipython-input-30-422434df0a8b>\u001b[0m in \u001b[0;36mforward\u001b[0;34m(self, x, seq_sizes)\u001b[0m\n\u001b[1;32m      7\u001b[0m     \u001b[0;32mdef\u001b[0m \u001b[0mforward\u001b[0m\u001b[0;34m(\u001b[0m\u001b[0mself\u001b[0m\u001b[0;34m,\u001b[0m \u001b[0mx\u001b[0m\u001b[0;34m,\u001b[0m \u001b[0mseq_sizes\u001b[0m\u001b[0;34m)\u001b[0m\u001b[0;34m:\u001b[0m\u001b[0;34m\u001b[0m\u001b[0;34m\u001b[0m\u001b[0m\n\u001b[1;32m      8\u001b[0m         \u001b[0mout\u001b[0m \u001b[0;34m=\u001b[0m \u001b[0mpack_padded_sequence\u001b[0m\u001b[0;34m(\u001b[0m\u001b[0mx\u001b[0m\u001b[0;34m,\u001b[0m \u001b[0mseq_sizes\u001b[0m\u001b[0;34m)\u001b[0m\u001b[0;34m\u001b[0m\u001b[0;34m\u001b[0m\u001b[0m\n\u001b[0;32m----> 9\u001b[0;31m         \u001b[0mout\u001b[0m\u001b[0;34m,\u001b[0m \u001b[0mh\u001b[0m \u001b[0;34m=\u001b[0m \u001b[0mself\u001b[0m\u001b[0;34m.\u001b[0m\u001b[0mrnn\u001b[0m\u001b[0;34m(\u001b[0m\u001b[0mout\u001b[0m\u001b[0;34m)\u001b[0m\u001b[0;34m\u001b[0m\u001b[0;34m\u001b[0m\u001b[0m\n\u001b[0m\u001b[1;32m     10\u001b[0m         \u001b[0mout\u001b[0m\u001b[0;34m,\u001b[0m \u001b[0m_\u001b[0m \u001b[0;34m=\u001b[0m \u001b[0mpad_packed_sequence\u001b[0m\u001b[0;34m(\u001b[0m\u001b[0mout\u001b[0m\u001b[0;34m)\u001b[0m\u001b[0;34m\u001b[0m\u001b[0;34m\u001b[0m\u001b[0m\n\u001b[1;32m     11\u001b[0m \u001b[0;34m\u001b[0m\u001b[0m\n",
            "\u001b[0;32m/usr/local/lib/python3.6/dist-packages/torch/nn/modules/module.py\u001b[0m in \u001b[0;36m_call_impl\u001b[0;34m(self, *input, **kwargs)\u001b[0m\n\u001b[1;32m    725\u001b[0m             \u001b[0mresult\u001b[0m \u001b[0;34m=\u001b[0m \u001b[0mself\u001b[0m\u001b[0;34m.\u001b[0m\u001b[0m_slow_forward\u001b[0m\u001b[0;34m(\u001b[0m\u001b[0;34m*\u001b[0m\u001b[0minput\u001b[0m\u001b[0;34m,\u001b[0m \u001b[0;34m**\u001b[0m\u001b[0mkwargs\u001b[0m\u001b[0;34m)\u001b[0m\u001b[0;34m\u001b[0m\u001b[0;34m\u001b[0m\u001b[0m\n\u001b[1;32m    726\u001b[0m         \u001b[0;32melse\u001b[0m\u001b[0;34m:\u001b[0m\u001b[0;34m\u001b[0m\u001b[0;34m\u001b[0m\u001b[0m\n\u001b[0;32m--> 727\u001b[0;31m             \u001b[0mresult\u001b[0m \u001b[0;34m=\u001b[0m \u001b[0mself\u001b[0m\u001b[0;34m.\u001b[0m\u001b[0mforward\u001b[0m\u001b[0;34m(\u001b[0m\u001b[0;34m*\u001b[0m\u001b[0minput\u001b[0m\u001b[0;34m,\u001b[0m \u001b[0;34m**\u001b[0m\u001b[0mkwargs\u001b[0m\u001b[0;34m)\u001b[0m\u001b[0;34m\u001b[0m\u001b[0;34m\u001b[0m\u001b[0m\n\u001b[0m\u001b[1;32m    728\u001b[0m         for hook in itertools.chain(\n\u001b[1;32m    729\u001b[0m                 \u001b[0m_global_forward_hooks\u001b[0m\u001b[0;34m.\u001b[0m\u001b[0mvalues\u001b[0m\u001b[0;34m(\u001b[0m\u001b[0;34m)\u001b[0m\u001b[0;34m,\u001b[0m\u001b[0;34m\u001b[0m\u001b[0;34m\u001b[0m\u001b[0m\n",
            "\u001b[0;32m/usr/local/lib/python3.6/dist-packages/torch/nn/modules/rnn.py\u001b[0m in \u001b[0;36mforward\u001b[0;34m(self, input, hx)\u001b[0m\n\u001b[1;32m    583\u001b[0m         \u001b[0;32melse\u001b[0m\u001b[0;34m:\u001b[0m\u001b[0;34m\u001b[0m\u001b[0;34m\u001b[0m\u001b[0m\n\u001b[1;32m    584\u001b[0m             result = _VF.lstm(input, batch_sizes, hx, self._flat_weights, self.bias,\n\u001b[0;32m--> 585\u001b[0;31m                               self.num_layers, self.dropout, self.training, self.bidirectional)\n\u001b[0m\u001b[1;32m    586\u001b[0m         \u001b[0moutput\u001b[0m \u001b[0;34m=\u001b[0m \u001b[0mresult\u001b[0m\u001b[0;34m[\u001b[0m\u001b[0;36m0\u001b[0m\u001b[0;34m]\u001b[0m\u001b[0;34m\u001b[0m\u001b[0;34m\u001b[0m\u001b[0m\n\u001b[1;32m    587\u001b[0m         \u001b[0mhidden\u001b[0m \u001b[0;34m=\u001b[0m \u001b[0mresult\u001b[0m\u001b[0;34m[\u001b[0m\u001b[0;36m1\u001b[0m\u001b[0;34m:\u001b[0m\u001b[0;34m]\u001b[0m\u001b[0;34m\u001b[0m\u001b[0;34m\u001b[0m\u001b[0m\n",
            "\u001b[0;31mKeyboardInterrupt\u001b[0m: "
          ]
        }
      ]
    },
    {
      "cell_type": "code",
      "metadata": {
        "id": "R7Fvvwuu4k0U"
      },
      "source": [
        ""
      ],
      "execution_count": null,
      "outputs": []
    },
    {
      "cell_type": "markdown",
      "metadata": {
        "id": "7IN2U52nC8H_"
      },
      "source": [
        "## Test Prediction"
      ]
    },
    {
      "cell_type": "code",
      "metadata": {
        "id": "qwBLY0Zh3b5N"
      },
      "source": [
        "def get_test_data_loaders(args):\n",
        "    print(\"loading data\")\n",
        "    xtest = np.load(args.data_dir + '/test.npy', allow_pickle=True)\n",
        "    print(\"load complete\")\n",
        "    kwargs = {'pin_memory': True} if args.cuda else {}\n",
        "    test_loader = torch.utils.data.DataLoader(\n",
        "        MyDataset(xtest, None),\n",
        "        batch_size=1, shuffle=False, collate_fn=my_collate, **kwargs)\n",
        "    return test_loader"
      ],
      "execution_count": 29,
      "outputs": []
    },
    {
      "cell_type": "code",
      "metadata": {
        "id": "DawBGhRL3kaI"
      },
      "source": [
        "def predict(args, csv_fpath, weights_fpath):\n",
        "    model = MyModel(args.nhid, args.nlayers, args.dropout, args.dropouth, args.dropouti)\n",
        "    model.load_state_dict(torch.load(weights_fpath))\n",
        "    if args.cuda:\n",
        "        model.cuda()\n",
        "\n",
        "    model.eval()\n",
        "    test_loader = get_test_data_loaders(args)\n",
        "    with open(csv_fpath, 'w') as csvfile:\n",
        "        writer = csv.DictWriter(csvfile, fieldnames=['id', 'label'])\n",
        "        writer.writeheader()\n",
        "        cnt = 0\n",
        "        with torch.no_grad():\n",
        "          for batch, (frames, seq_sizes, _, _) in enumerate(test_loader):\n",
        "              batch += 1\n",
        "\n",
        "              if args.cuda:\n",
        "                  frames = frames.cuda()\n",
        "              frames = Variable(frames)\n",
        "              output = model(frames, seq_sizes)\n",
        "\n",
        "              decoded = decode(output, seq_sizes, beam_width=100)\n",
        "              for s in decoded:\n",
        "                  writer.writerow({\"id\": cnt, \"label\": s})\n",
        "                  cnt += 1\n",
        "    print(\"done\")"
      ],
      "execution_count": 30,
      "outputs": []
    },
    {
      "cell_type": "code",
      "metadata": {
        "id": "1RwoCiaw5pRQ"
      },
      "source": [
        "predict(args, 'submission.csv', args.weights_dir+'/HW3P2.w')"
      ],
      "execution_count": null,
      "outputs": []
    }
  ]
}